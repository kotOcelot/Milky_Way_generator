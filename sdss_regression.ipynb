{
  "cells": [
    {
      "cell_type": "markdown",
      "metadata": {
        "id": "view-in-github",
        "colab_type": "text"
      },
      "source": [
        "<a href=\"https://colab.research.google.com/github/kotOcelot/Milky_Way_generator/blob/main/sdss_regression.ipynb\" target=\"_parent\"><img src=\"https://colab.research.google.com/assets/colab-badge.svg\" alt=\"Open In Colab\"/></a>"
      ]
    },
    {
      "cell_type": "markdown",
      "source": [
        "###Импорты"
      ],
      "metadata": {
        "id": "4_rhqk1a5Fww"
      }
    },
    {
      "cell_type": "code",
      "execution_count": null,
      "metadata": {
        "id": "uqbjkM05NOWR"
      },
      "outputs": [],
      "source": [
        "from astropy.io import fits\n",
        "import os\n",
        "import math\n",
        "import pandas as pd\n",
        "import torchvision.transforms as transforms\n",
        "import numpy as np\n",
        "import matplotlib.pyplot as plt\n",
        "import shutil\n",
        "from torch.utils.data import DataLoader\n",
        "from torch.utils.data.dataset import Dataset, random_split\n",
        "import torch\n",
        "from PIL import Image\n",
        "from torch.utils.data import random_split\n",
        "from sklearn.preprocessing import StandardScaler\n",
        "from torch import nn\n",
        "import torch.optim as optim\n",
        "from scipy.optimize import curve_fit\n",
        "from torchvision.models import resnet18, ResNet18_Weights\n",
        "from torchsummary import summary\n",
        "from collections import OrderedDict\n",
        "import random\n",
        "from astropy.wcs import WCS\n",
        "from astropy import units as u\n",
        "from astropy.coordinates import SkyCoord\n",
        "from IPython.display import clear_output\n",
        "\n",
        "def set_random_seed(seed):\n",
        "    torch.manual_seed(seed)\n",
        "    torch.cuda.manual_seed(seed)\n",
        "    np.random.seed(seed)\n",
        "    random.seed(seed)\n",
        "    torch.backends.cudnn.deterministic = True\n",
        "\n",
        "clear_output()\n"
      ]
    },
    {
      "cell_type": "markdown",
      "source": [
        "###Картинки"
      ],
      "metadata": {
        "id": "QxpTJzHo5Ky9"
      }
    },
    {
      "cell_type": "code",
      "source": [
        "\n",
        "from collections import defaultdict\n",
        "\n",
        "from IPython.display import clear_output\n",
        "\n",
        "\n",
        "class ProgressPlotter:\n",
        "\n",
        "    \"\"\"\n",
        "    Groups contain a list of variables to output, like [\"loss\", \"accuracy\"]\n",
        "    If group is None all variables will be plotted\n",
        "\n",
        "    Title is experiment_id like \"Relu_Adam_lr003\"\n",
        "    All new collected data binded to current title\n",
        "    \"\"\"\n",
        "\n",
        "    def __init__(self, title=\"default\", groups=None) -> None:\n",
        "        self._history_dict = defaultdict(dict)\n",
        "        self.set_title(title)\n",
        "        self.groups = self.get_groups(groups)\n",
        "\n",
        "    def get_groups(self, groups):\n",
        "        if groups is not None:\n",
        "            return self._history_dict.keys()\n",
        "        if type(groups) is str:\n",
        "            groups = [groups]\n",
        "        return groups\n",
        "\n",
        "    def set_title(self, title):\n",
        "        for g in self._history_dict.keys():\n",
        "            self._history_dict[g][title] = []  # reset data\n",
        "        self.title = title\n",
        "\n",
        "    # group e.g. \"loss_val\" tag e.g. \"experiment_1\"\n",
        "    def add_scalar(self, group: str, value, tag=None) -> None:\n",
        "        tag = self.title if tag is None else tag\n",
        "\n",
        "        if not tag in self._history_dict[group]:\n",
        "            self._history_dict[group][tag] = []\n",
        "        self._history_dict[group][tag].append(value)\n",
        "\n",
        "    def add_row(self, group: str, value, tag=None) -> None:\n",
        "        tag = self.title if tag is None else tag\n",
        "        self._history_dict[group][tag] = value\n",
        "\n",
        "    def display_keys(self, ax, data):\n",
        "        history_len = 0\n",
        "        ax.grid()\n",
        "        for key in data:\n",
        "            ax.plot(data[key], label=key)\n",
        "            history_len = max(history_len, len(data[key]))\n",
        "            if len(data) > 1:\n",
        "                ax.legend(loc=\"best\")\n",
        "            if history_len < 50:\n",
        "                ax.set_xlabel(\"step\")\n",
        "                ax.set_xticks(np.arange(history_len))\n",
        "                ax.set_xticklabels(np.arange(history_len))\n",
        "\n",
        "    def display(self, groups=None):\n",
        "        clear_output()\n",
        "        if groups is None:\n",
        "            groups = self.groups\n",
        "        n_groups = len(groups)\n",
        "        fig, ax = plt.subplots(1, n_groups, figsize=(48 // n_groups, 3))\n",
        "        if n_groups == 1:\n",
        "            ax = [ax]\n",
        "        for i, g in enumerate(groups):\n",
        "            ax[i].set_ylabel(g)\n",
        "            self.display_keys(ax[i], self.history_dict[g])\n",
        "        fig.tight_layout()\n",
        "        plt.show()\n",
        "\n",
        "    @property\n",
        "    def history_dict(self):\n",
        "        return dict(self._history_dict)"
      ],
      "metadata": {
        "id": "f7cIl7esuPq9"
      },
      "execution_count": null,
      "outputs": []
    },
    {
      "cell_type": "code",
      "execution_count": null,
      "metadata": {
        "id": "ae2s0baQXa91"
      },
      "outputs": [],
      "source": [
        "def plot(output, target, maps, labels = ['Output', 'Target', 'Input']):\n",
        "  for k in range(len(output)):\n",
        "    if (len(output) != 1):\n",
        "      pic_rec = output[k]\n",
        "      pic = target[k]\n",
        "      map = maps[k]\n",
        "    else:\n",
        "      pic_rec = output\n",
        "      pic = target\n",
        "      map = maps\n",
        "    rband_rec = torch.squeeze(pic_rec, 0)\n",
        "    rband_orig = torch.squeeze(pic, 0)\n",
        "    map_orig = torch.squeeze(map, 0)\n",
        "    fig, ax = plt.subplot_mosaic([\n",
        "        labels\n",
        "    ], figsize=(14, 5))\n",
        "    ax[labels[0]].imshow(rband_rec.cpu().detach().numpy())\n",
        "    ax[labels[1]].imshow(rband_orig.cpu().detach().numpy())\n",
        "    ax[labels[2]].imshow(torch.squeeze(map_orig).cpu().detach().numpy())\n",
        "    ax[labels[0]].set_title(labels[0])\n",
        "    ax[labels[1]].set_title(labels[1])\n",
        "    ax[labels[2]].set_title(labels[2])\n",
        "    plt.show()\n"
      ]
    },
    {
      "cell_type": "code",
      "execution_count": null,
      "metadata": {
        "id": "qPHksH9Epp3b"
      },
      "outputs": [],
      "source": [
        "def plot_dataset(pics, maps, labels, num = 10):\n",
        "  for k in range(num):\n",
        "      pic = pics[k]\n",
        "      label = labels[k][:6]\n",
        "      rband_orig = torch.squeeze(pic, 0)\n",
        "      map_orig = torch.squeeze(map, 0)\n",
        "      fig, ax = plt.subplot_mosaic([\n",
        "          ['ha', 'stellar']\n",
        "      ], figsize=(14, 5))\n",
        "      ax['ha'].imshow(rband_orig.cpu().detach().numpy())\n",
        "      ax['stellar'].imshow(torch.squeeze(map_orig).cpu().detach().numpy())\n",
        "      ax['ha'].set_title(label)\n",
        "      ax['stellar'].set_title(label)\n",
        "      plt.show()\n"
      ]
    },
    {
      "cell_type": "markdown",
      "source": [
        "###Получение параметров"
      ],
      "metadata": {
        "id": "2_W4S5ZW5qEK"
      }
    },
    {
      "cell_type": "code",
      "source": [
        "from google.colab import drive\n",
        "drive.mount('/content/drive')"
      ],
      "metadata": {
        "id": "lyBXN-cZLxfL",
        "colab": {
          "base_uri": "https://localhost:8080/"
        },
        "outputId": "7e796213-0698-4844-f208-42782e1aa998"
      },
      "execution_count": null,
      "outputs": [
        {
          "output_type": "stream",
          "name": "stdout",
          "text": [
            "Mounted at /content/drive\n"
          ]
        }
      ]
    },
    {
      "cell_type": "code",
      "source": [
        "# list_files = []\n",
        "# with open('/content/drive/MyDrive/SDSS Manga data/list.dat') as f:\n",
        "#   for line in f:\n",
        "#       list_files.append(line.replace('%', '')[:-1])\n",
        "# print(len(list_files))"
      ],
      "metadata": {
        "id": "Ezi8uEeEL4uo"
      },
      "execution_count": null,
      "outputs": []
    },
    {
      "cell_type": "code",
      "source": [
        "# rgb_x = []\n",
        "# rgb_y = []\n",
        "# list_rgb = []\n",
        "# with open('/content/drive/MyDrive/SDSS Manga data/rgb_orig/rgb_list_2.dat') as f:\n",
        "#      for line in f:\n",
        "#        if line[0] == '%':\n",
        "#          name = line[:14].replace('%', '')\n",
        "#          if (int(line[18:22])>=120) and (int(line[15:18])>=120) and (np.sum(np.isin(list_files, name)) == 1):\n",
        "#            list_rgb.append(name)\n",
        "#            rgb_y.append(int(line[15:18]))\n",
        "#            rgb_x.append(int(line[18:22]))\n",
        "# print(np.mean(rgb_y), np.mean(rgb_x))\n",
        "# print(len(list_rgb))"
      ],
      "metadata": {
        "id": "GDglLfek4iXX"
      },
      "execution_count": null,
      "outputs": []
    },
    {
      "cell_type": "code",
      "source": [
        "# list_disp = []\n",
        "# disp_medians = []\n",
        "# with open('/content/drive/MyDrive/SDSS Manga data/st_disp/star_disp_list.dat') as f:\n",
        "#      for line in f:\n",
        "#       if line[0] == '%':\n",
        "#           l = 0\n",
        "#           ln = line[15:-1].split(' ')\n",
        "#           for f in range(len(ln)):\n",
        "#             if ln[f]!='':\n",
        "#               l += 1\n",
        "#               if l == 4:\n",
        "#                 if float(ln[f])!=-350:\n",
        "#                   disp_medians.append(ln[f])\n",
        "#                   list_disp.append(line[:14].replace('%', ''))\n",
        "# print(len(list_disp))"
      ],
      "metadata": {
        "id": "ZBiJYxHc3GHy"
      },
      "execution_count": null,
      "outputs": []
    },
    {
      "cell_type": "code",
      "source": [
        "# list_ff = []\n",
        "# mass = []\n",
        "# lage = []\n",
        "# mage = []\n",
        "# lz = []\n",
        "# mz = []\n",
        "# with open('/content/drive/MyDrive/SDSS Manga data/firefly_list.dat') as f:\n",
        "#   for line in f:\n",
        "#       if line[0] == '%':\n",
        "#           l = 0\n",
        "#           ln = line[15:-1].split(' ')\n",
        "#           new_line = []\n",
        "#           for f in range(len(ln)):\n",
        "#             if ln[f]!='':\n",
        "#               new_line.append(float(ln[f]))\n",
        "#           if np.sum(np.array(new_line) == -9999) == 0:\n",
        "#               list_ff.append(line[:14].replace('%', ''))\n",
        "#               mass.append(new_line[0])\n",
        "#               lage.append(new_line[1])\n",
        "#               mage.append(new_line[2])\n",
        "#               lz.append(new_line[3])\n",
        "#               mz.append(new_line[4])\n",
        "# print(len(mage))"
      ],
      "metadata": {
        "id": "LYKqrAGlyDLB"
      },
      "execution_count": null,
      "outputs": []
    },
    {
      "cell_type": "code",
      "source": [
        "# list_ff = np.array(list_ff)\n",
        "# list_disp = np.array(list_disp)\n",
        "# list_rgb = np.array(list_rgb)\n",
        "# int1 = np.intersect1d(list_ff, list_disp)\n",
        "# int2 = np.intersect1d(int1, list_rgb)\n",
        "# print(len(int2))"
      ],
      "metadata": {
        "id": "autOTlDPPksr"
      },
      "execution_count": null,
      "outputs": []
    },
    {
      "cell_type": "code",
      "source": [
        "# list_dm = []\n",
        "# list_mass = []\n",
        "# list_lage = []\n",
        "# list_mage = []\n",
        "# list_lz = []\n",
        "# list_mz = []\n",
        "# for name in int2:\n",
        "#   ind = np.where(list_disp == name)[0][0]\n",
        "#   list_dm.append(disp_medians[ind])\n",
        "#   ind = np.where(list_ff == name)[0][0]\n",
        "#   list_mass.append(mass[ind])\n",
        "#   list_lage.append(lage[ind])\n",
        "#   list_mage.append(mage[ind])\n",
        "#   list_lz.append(lz[ind])\n",
        "#   list_mz.append(mz[ind])"
      ],
      "metadata": {
        "id": "XFnbisnO3bDc"
      },
      "execution_count": null,
      "outputs": []
    },
    {
      "cell_type": "code",
      "source": [
        "# int2 = np.array(int2)\n",
        "# list_dm = np.array(list_dm)\n",
        "# list_mass = np.array(list_mass)\n",
        "# list_lage = np.array(list_lage)\n",
        "# list_mage = np.array(list_mage)\n",
        "# list_lz = np.array(list_lz)\n",
        "# list_mz = np.array(list_mz)"
      ],
      "metadata": {
        "id": "u1eh6S-wNQ5G"
      },
      "execution_count": null,
      "outputs": []
    },
    {
      "cell_type": "code",
      "source": [
        "# int2 = int2[:, np.newaxis]\n",
        "# list_dm = list_dm[:, np.newaxis]\n",
        "# list_mass = list_mass[:, np.newaxis]\n",
        "# list_lage = list_lage[:, np.newaxis]\n",
        "# list_mage = list_mage[:, np.newaxis]\n",
        "# list_lz = list_lz[:, np.newaxis]\n",
        "# list_mz = list_mz[:, np.newaxis]\n"
      ],
      "metadata": {
        "id": "OmLh2ryiOxEd"
      },
      "execution_count": null,
      "outputs": []
    },
    {
      "cell_type": "code",
      "source": [
        "#arr = np.vstack((int2, list_dm,list_mass,list_lage,list_mage,list_lz,list_mz))"
      ],
      "metadata": {
        "id": "GnHnvKISPdJB"
      },
      "execution_count": null,
      "outputs": []
    },
    {
      "cell_type": "code",
      "source": [
        "# df = pd.DataFrame(arr.T, columns=['name', 'disp, kms', 'mass, log m/msun', 'lw age, log Myr', 'mw age, log Myr', 'lw z, z/h', 'mw z, z/h'])\n"
      ],
      "metadata": {
        "id": "MnRfyPYYLIW5"
      },
      "execution_count": null,
      "outputs": []
    },
    {
      "cell_type": "code",
      "source": [
        "#df.to_csv('/content/drive/MyDrive/SDSS Manga data/galaxies_data.csv')"
      ],
      "metadata": {
        "id": "tGMPAXqQRYNK"
      },
      "execution_count": null,
      "outputs": []
    },
    {
      "cell_type": "code",
      "source": [
        "df = pd.read_csv('/content/drive/MyDrive/SDSS Manga data/galaxies_data.csv', index_col = 0)"
      ],
      "metadata": {
        "id": "wieAc-rERX_q"
      },
      "execution_count": null,
      "outputs": []
    },
    {
      "cell_type": "code",
      "source": [
        "len(df)"
      ],
      "metadata": {
        "id": "cOJ0yW6qQtYK",
        "outputId": "f071c62f-d4c6-494e-be9c-e5fc81512605",
        "colab": {
          "base_uri": "https://localhost:8080/"
        }
      },
      "execution_count": null,
      "outputs": [
        {
          "output_type": "execute_result",
          "data": {
            "text/plain": [
              "9833"
            ]
          },
          "metadata": {},
          "execution_count": 19
        }
      ]
    },
    {
      "cell_type": "code",
      "source": [
        "list_files_test = df.name[:1000]"
      ],
      "metadata": {
        "id": "3tKbm5pj4n7S",
        "outputId": "7270d1c9-a6b4-48ce-eabd-58bd82072a6d",
        "colab": {
          "base_uri": "https://localhost:8080/",
          "height": 166
        }
      },
      "execution_count": null,
      "outputs": [
        {
          "output_type": "error",
          "ename": "NameError",
          "evalue": "ignored",
          "traceback": [
            "\u001b[0;31m---------------------------------------------------------------------------\u001b[0m",
            "\u001b[0;31mNameError\u001b[0m                                 Traceback (most recent call last)",
            "\u001b[0;32m<ipython-input-1-ec0641f6e5e2>\u001b[0m in \u001b[0;36m<cell line: 1>\u001b[0;34m()\u001b[0m\n\u001b[0;32m----> 1\u001b[0;31m \u001b[0mlist_files_test\u001b[0m \u001b[0;34m=\u001b[0m \u001b[0mdf\u001b[0m\u001b[0;34m.\u001b[0m\u001b[0mname\u001b[0m\u001b[0;34m[\u001b[0m\u001b[0;34m:\u001b[0m\u001b[0;36m1000\u001b[0m\u001b[0;34m]\u001b[0m\u001b[0;34m\u001b[0m\u001b[0;34m\u001b[0m\u001b[0m\n\u001b[0m",
            "\u001b[0;31mNameError\u001b[0m: name 'df' is not defined"
          ]
        }
      ]
    },
    {
      "cell_type": "markdown",
      "source": [
        "###Загрузка картинок"
      ],
      "metadata": {
        "id": "bOQ_dL0Z4bou"
      }
    },
    {
      "cell_type": "code",
      "source": [
        "rgbs = []\n",
        "for name_f in list_files_test:\n",
        "  name = '{}_rgb.npy'.format(name_f)\n",
        "  rgb = torch.permute(torch.tensor(np.load('/content/drive/MyDrive/SDSS Manga data/rgb_orig/{}'.format(name))).type(torch.FloatTensor), (2,0,1))\n",
        "  rgbs.append(rgb)"
      ],
      "metadata": {
        "id": "Y3XMB0Ls4wbJ"
      },
      "execution_count": null,
      "outputs": []
    },
    {
      "cell_type": "markdown",
      "source": [
        "###Датасет"
      ],
      "metadata": {
        "id": "IpWtF-Zl6bt_"
      }
    },
    {
      "cell_type": "code",
      "execution_count": null,
      "metadata": {
        "id": "dRdmMj-azYTh"
      },
      "outputs": [],
      "source": [
        "class DS_pics(Dataset):\n",
        "    def __init__(self, images, df, transform = None):\n",
        "        super().__init__()\n",
        "        self.images = images\n",
        "        self.metal = df['mw z, z/h']\n",
        "        self.age = df['mw age, log Myr']\n",
        "        self.mass = df['mass, log m/msun']\n",
        "        self.disp = df['disp, kms']\n",
        "        self.transform = transform\n",
        "\n",
        "    def __getitem__(self, indx):\n",
        "        image = self.images[indx]\n",
        "        met = self.metal[indx]\n",
        "        a = self.age[indx]\n",
        "        ms = self.mass[indx]\n",
        "        dsp = self.disp[indx]\n",
        "\n",
        "\n",
        "        if self.transform:\n",
        "            image = self.transform(image)\n",
        "\n",
        "        return image, met.astype(np.float32), a.astype(np.float32), ms.astype(np.float32), dsp.astype(np.float32)\n",
        "\n",
        "    def __len__(self):\n",
        "        return len(self.images)"
      ]
    },
    {
      "cell_type": "code",
      "execution_count": null,
      "metadata": {
        "id": "67LZr8sRyy7v"
      },
      "outputs": [],
      "source": [
        "rgb_test = rgbs[:2]\n",
        "rgb_res = rgbs[2:]\n",
        "df_test = df[:2]\n",
        "df_res = df[2:]"
      ]
    },
    {
      "cell_type": "code",
      "execution_count": null,
      "metadata": {
        "id": "HWWZ6XvLzlN8"
      },
      "outputs": [],
      "source": [
        "transform = transforms.Compose([ transforms.Resize(size = (241, 241))],)\n",
        "\n",
        "galaxies = DS_pics(rgb_res, df_res, transform=transform)\n",
        "gal_test = DS_pics(rgb_test, df_test, transform=transform)"
      ]
    },
    {
      "cell_type": "code",
      "execution_count": null,
      "metadata": {
        "id": "Sbol4YcJG9uT"
      },
      "outputs": [],
      "source": [
        "gal_train, gal_val  = random_split(galaxies, [800, 198])"
      ]
    },
    {
      "cell_type": "code",
      "execution_count": null,
      "metadata": {
        "id": "eU9Rhs8bIG1K"
      },
      "outputs": [],
      "source": [
        "train_loader = torch.utils.data.DataLoader(gal_train, batch_size=8, shuffle=True)\n",
        "val_loader = torch.utils.data.DataLoader(gal_val, batch_size=8, shuffle=False)\n",
        "test_loader = torch.utils.data.DataLoader(gal_test, batch_size=8, shuffle=False)"
      ]
    },
    {
      "cell_type": "markdown",
      "source": [
        "###Картинка -> числа\n",
        "\n"
      ],
      "metadata": {
        "id": "K2me_IUX6fn2"
      }
    },
    {
      "cell_type": "code",
      "source": [
        "class Two_seq(nn.Module):\n",
        "    def __init__(self):\n",
        "        super().__init__()\n",
        "        self.mass = nn.Sequential(\n",
        "            nn.Conv2d(3, 64, kernel_size=3, stride=1, padding=0),\n",
        "            nn.BatchNorm2d(64),\n",
        "            nn.ReLU(True),\n",
        "            nn.Conv2d(64, 32, kernel_size=3, stride=1, padding=0),\n",
        "            nn.BatchNorm2d(32),\n",
        "            nn.ReLU(True),\n",
        "            nn.Conv2d(32, 16, kernel_size=3, stride=1, padding=0),\n",
        "            nn.BatchNorm2d(16),\n",
        "            nn.ReLU(True)\n",
        "        )\n",
        "\n",
        "        self.disp = nn.Sequential(\n",
        "            nn.Conv2d(3, 64, kernel_size=3, stride=1, padding=0),\n",
        "            nn.BatchNorm2d(64),\n",
        "            nn.ReLU(True),\n",
        "            nn.Conv2d(64, 32, kernel_size=3, stride=1, padding=0),\n",
        "            nn.BatchNorm2d(32),\n",
        "            nn.ReLU(True),\n",
        "            nn.Conv2d(32, 16, kernel_size=3, stride=1, padding=0),\n",
        "            nn.BatchNorm2d(16),\n",
        "            nn.ReLU(True)\n",
        "        )\n",
        "        self.metal = nn.Sequential(\n",
        "            nn.Conv2d(3, 64, kernel_size=3, stride=1, padding=0),\n",
        "            nn.BatchNorm2d(64),\n",
        "            nn.ReLU(True),\n",
        "            nn.Conv2d(64, 32, kernel_size=3, stride=1, padding=0),\n",
        "            nn.BatchNorm2d(32),\n",
        "            nn.ReLU(True),\n",
        "            nn.Conv2d(32, 16, kernel_size=3, stride=1, padding=0),\n",
        "            nn.BatchNorm2d(16),\n",
        "            nn.ReLU(True)\n",
        "        )\n",
        "        self.age = nn.Sequential(\n",
        "            nn.Conv2d(3, 64, kernel_size=3, stride=1, padding=0),\n",
        "            nn.BatchNorm2d(64),\n",
        "            nn.ReLU(True),\n",
        "            nn.Conv2d(64, 32, kernel_size=3, stride=1, padding=0),\n",
        "            nn.BatchNorm2d(32),\n",
        "            nn.ReLU(True),\n",
        "            nn.Conv2d(32, 16, kernel_size=3, stride=1, padding=0),\n",
        "            nn.BatchNorm2d(16),\n",
        "            nn.ReLU(True)\n",
        "        )\n",
        "        self.avg = nn.AdaptiveAvgPool1d((2048))\n",
        "        self.fc = nn.Sequential(\n",
        "            nn.Linear(2048, 1024),\n",
        "            nn.Linear(1024, 512),\n",
        "            nn.Linear(512, 1)\n",
        "        )\n",
        "    def forward(self, rgb):\n",
        "        disp_out = self.disp(rgb)\n",
        "        mass_out = self.mass(rgb)\n",
        "        age_out = self.age(rgb)\n",
        "        metal_out = self.metal(rgb)\n",
        "\n",
        "        metal_out = metal_out.view(metal_out.size()[0], -1)\n",
        "        metal_out = self.avg(metal_out)\n",
        "        metal_out = self.fc(metal_out)\n",
        "        metal_out = torch.squeeze(metal_out, 1)\n",
        "\n",
        "        age_out = age_out.view(age_out.size()[0], -1)\n",
        "        age_out = self.avg(age_out)\n",
        "        age_out = self.fc(age_out)\n",
        "        age_out = torch.squeeze(age_out, 1)\n",
        "\n",
        "        mass_out = mass_out.view(mass_out.size()[0], -1)\n",
        "        mass_out = self.avg(mass_out)\n",
        "        mass_out = self.fc(mass_out)\n",
        "        mass_out = torch.squeeze(mass_out, 1)\n",
        "\n",
        "        disp_out = disp_out.view(disp_out.size()[0], -1)\n",
        "        disp_out = self.avg(disp_out)\n",
        "        disp_out = self.fc(disp_out)\n",
        "        disp_out = torch.squeeze(disp_out, 1)\n",
        "        return metal_out, age_out, mass_out, disp_out"
      ],
      "metadata": {
        "id": "3mlYcbjB54_x"
      },
      "execution_count": null,
      "outputs": []
    },
    {
      "cell_type": "markdown",
      "source": [
        "###Обучение"
      ],
      "metadata": {
        "id": "mAqUnQUt6lWd"
      }
    },
    {
      "cell_type": "code",
      "source": [
        "def train(model, criterion, optimizer, num_ep, scheduler=None):\n",
        "    progress = {}\n",
        "    pp = ProgressPlotter(title=\"baseline\", groups=[\"loss_train\", \"loss_val\"])\n",
        "    for epoch in range(num_ep):\n",
        "          ep_loss_train = 0\n",
        "          model.train()\n",
        "          for (pic, *param) in train_loader: #metal, age, mass, disp\n",
        "              optimizer.zero_grad()\n",
        "              output = model(pic.to(device))\n",
        "              [item.to(device) for item in param]\n",
        "              #param = param.to(device)\n",
        "              loss = criterion(output, param)\n",
        "              loss.backward()\n",
        "              optimizer.step()\n",
        "              train_loss = loss.item()\n",
        "              ep_loss_train += train_loss\n",
        "\n",
        "          ep_loss_val = 0\n",
        "          model.eval()\n",
        "          for (pic, *param) in val_loader:\n",
        "              with torch.no_grad():\n",
        "                  output = model(pic.to(device))\n",
        "                  output = torch.squeeze(output, 1)\n",
        "                  [item.to(device) for item in param]\n",
        "                  #param = param.to(device)\n",
        "                  loss = criterion(output, param)\n",
        "                  val_loss = loss.item()\n",
        "                  ep_loss_val += loss.item()\n",
        "                  if scheduler:\n",
        "                      scheduler.step(val_loss)\n",
        "          pp.add_scalar(group = \"loss_train\", value = ep_loss_train/(len(train_loader)), tag = \"loss_train\")\n",
        "          pp.add_scalar(group = \"loss_val\", value = ep_loss_val/(len(val_loader)), tag = \"loss_val\")\n",
        "          pp.display()"
      ],
      "metadata": {
        "id": "VJUuUyCF2hlu"
      },
      "execution_count": null,
      "outputs": []
    },
    {
      "cell_type": "code",
      "source": [
        "class RMSELoss(nn.Module):\n",
        "    def __init__(self):\n",
        "        super().__init__()\n",
        "        self.mse = nn.MSELoss()\n",
        "\n",
        "    def forward(self,yhat,y):\n",
        "        yhat = torch.stack([torch.FloatTensor(yh) for yh in yhat])\n",
        "        y =    torch.stack([torch.FloatTensor(y_) for y_ in y])\n",
        "        return torch.sqrt(self.mse(yhat,y))\n"
      ],
      "metadata": {
        "id": "rJK_DgWEBfY8"
      },
      "execution_count": null,
      "outputs": []
    },
    {
      "cell_type": "code",
      "source": [
        "from torchvision.models import resnet50, ResNet50_Weights\n",
        "\n",
        "set_random_seed(42)\n",
        "device = torch.device(\"cuda\" if torch.cuda.is_available() else \"cpu\")\n",
        "model = Two_seq()\n",
        "model.to(device)\n",
        "criterion = RMSELoss()\n",
        "optimizer = torch.optim.AdamW(model.parameters(), lr=0.03, weight_decay = 0.02)"
      ],
      "metadata": {
        "id": "uB63HK9KARG4"
      },
      "execution_count": null,
      "outputs": []
    },
    {
      "cell_type": "code",
      "execution_count": null,
      "metadata": {
        "id": "R69KFIoxH5Y7",
        "colab": {
          "base_uri": "https://localhost:8080/",
          "height": 312
        },
        "outputId": "c7c11898-d6b0-4b15-c485-e45690f7b28b"
      },
      "outputs": [
        {
          "output_type": "error",
          "ename": "KeyboardInterrupt",
          "evalue": "ignored",
          "traceback": [
            "\u001b[0;31m---------------------------------------------------------------------------\u001b[0m",
            "\u001b[0;31mKeyboardInterrupt\u001b[0m                         Traceback (most recent call last)",
            "\u001b[0;32m<ipython-input-77-6ebbd117a966>\u001b[0m in \u001b[0;36m<cell line: 1>\u001b[0;34m()\u001b[0m\n\u001b[0;32m----> 1\u001b[0;31m \u001b[0mpr\u001b[0m \u001b[0;34m=\u001b[0m \u001b[0mtrain\u001b[0m\u001b[0;34m(\u001b[0m\u001b[0mmodel\u001b[0m\u001b[0;34m,\u001b[0m \u001b[0mcriterion\u001b[0m\u001b[0;34m,\u001b[0m \u001b[0moptimizer\u001b[0m\u001b[0;34m,\u001b[0m \u001b[0;36m35\u001b[0m\u001b[0;34m)\u001b[0m\u001b[0;34m\u001b[0m\u001b[0;34m\u001b[0m\u001b[0m\n\u001b[0m",
            "\u001b[0;32m<ipython-input-74-f6a83e3b408c>\u001b[0m in \u001b[0;36mtrain\u001b[0;34m(model, criterion, optimizer, num_ep, scheduler)\u001b[0m\n\u001b[1;32m      7\u001b[0m           \u001b[0;32mfor\u001b[0m \u001b[0;34m(\u001b[0m\u001b[0mpic\u001b[0m\u001b[0;34m,\u001b[0m \u001b[0;34m*\u001b[0m\u001b[0mparam\u001b[0m\u001b[0;34m)\u001b[0m \u001b[0;32min\u001b[0m \u001b[0mtrain_loader\u001b[0m\u001b[0;34m:\u001b[0m \u001b[0;31m#metal, age, mass, disp\u001b[0m\u001b[0;34m\u001b[0m\u001b[0;34m\u001b[0m\u001b[0m\n\u001b[1;32m      8\u001b[0m               \u001b[0moptimizer\u001b[0m\u001b[0;34m.\u001b[0m\u001b[0mzero_grad\u001b[0m\u001b[0;34m(\u001b[0m\u001b[0;34m)\u001b[0m\u001b[0;34m\u001b[0m\u001b[0;34m\u001b[0m\u001b[0m\n\u001b[0;32m----> 9\u001b[0;31m               \u001b[0moutput\u001b[0m \u001b[0;34m=\u001b[0m \u001b[0mmodel\u001b[0m\u001b[0;34m(\u001b[0m\u001b[0mpic\u001b[0m\u001b[0;34m.\u001b[0m\u001b[0mto\u001b[0m\u001b[0;34m(\u001b[0m\u001b[0mdevice\u001b[0m\u001b[0;34m)\u001b[0m\u001b[0;34m)\u001b[0m\u001b[0;34m\u001b[0m\u001b[0;34m\u001b[0m\u001b[0m\n\u001b[0m\u001b[1;32m     10\u001b[0m               \u001b[0;34m[\u001b[0m\u001b[0mitem\u001b[0m\u001b[0;34m.\u001b[0m\u001b[0mto\u001b[0m\u001b[0;34m(\u001b[0m\u001b[0mdevice\u001b[0m\u001b[0;34m)\u001b[0m \u001b[0;32mfor\u001b[0m \u001b[0mitem\u001b[0m \u001b[0;32min\u001b[0m \u001b[0mparam\u001b[0m\u001b[0;34m]\u001b[0m\u001b[0;34m\u001b[0m\u001b[0;34m\u001b[0m\u001b[0m\n\u001b[1;32m     11\u001b[0m               \u001b[0;31m#param = param.to(device)\u001b[0m\u001b[0;34m\u001b[0m\u001b[0;34m\u001b[0m\u001b[0m\n",
            "\u001b[0;32m/usr/local/lib/python3.10/dist-packages/torch/nn/modules/module.py\u001b[0m in \u001b[0;36m_call_impl\u001b[0;34m(self, *args, **kwargs)\u001b[0m\n\u001b[1;32m   1499\u001b[0m                 \u001b[0;32mor\u001b[0m \u001b[0m_global_backward_pre_hooks\u001b[0m \u001b[0;32mor\u001b[0m \u001b[0m_global_backward_hooks\u001b[0m\u001b[0;34m\u001b[0m\u001b[0;34m\u001b[0m\u001b[0m\n\u001b[1;32m   1500\u001b[0m                 or _global_forward_hooks or _global_forward_pre_hooks):\n\u001b[0;32m-> 1501\u001b[0;31m             \u001b[0;32mreturn\u001b[0m \u001b[0mforward_call\u001b[0m\u001b[0;34m(\u001b[0m\u001b[0;34m*\u001b[0m\u001b[0margs\u001b[0m\u001b[0;34m,\u001b[0m \u001b[0;34m**\u001b[0m\u001b[0mkwargs\u001b[0m\u001b[0;34m)\u001b[0m\u001b[0;34m\u001b[0m\u001b[0;34m\u001b[0m\u001b[0m\n\u001b[0m\u001b[1;32m   1502\u001b[0m         \u001b[0;31m# Do not call functions when jit is used\u001b[0m\u001b[0;34m\u001b[0m\u001b[0;34m\u001b[0m\u001b[0m\n\u001b[1;32m   1503\u001b[0m         \u001b[0mfull_backward_hooks\u001b[0m\u001b[0;34m,\u001b[0m \u001b[0mnon_full_backward_hooks\u001b[0m \u001b[0;34m=\u001b[0m \u001b[0;34m[\u001b[0m\u001b[0;34m]\u001b[0m\u001b[0;34m,\u001b[0m \u001b[0;34m[\u001b[0m\u001b[0;34m]\u001b[0m\u001b[0;34m\u001b[0m\u001b[0;34m\u001b[0m\u001b[0m\n",
            "\u001b[0;32m<ipython-input-73-54aaa72c9992>\u001b[0m in \u001b[0;36mforward\u001b[0;34m(self, rgb)\u001b[0m\n\u001b[1;32m     56\u001b[0m         \u001b[0mdisp_out\u001b[0m \u001b[0;34m=\u001b[0m \u001b[0mself\u001b[0m\u001b[0;34m.\u001b[0m\u001b[0mdisp\u001b[0m\u001b[0;34m(\u001b[0m\u001b[0mrgb\u001b[0m\u001b[0;34m)\u001b[0m\u001b[0;34m\u001b[0m\u001b[0;34m\u001b[0m\u001b[0m\n\u001b[1;32m     57\u001b[0m         \u001b[0mmass_out\u001b[0m \u001b[0;34m=\u001b[0m \u001b[0mself\u001b[0m\u001b[0;34m.\u001b[0m\u001b[0mmass\u001b[0m\u001b[0;34m(\u001b[0m\u001b[0mrgb\u001b[0m\u001b[0;34m)\u001b[0m\u001b[0;34m\u001b[0m\u001b[0;34m\u001b[0m\u001b[0m\n\u001b[0;32m---> 58\u001b[0;31m         \u001b[0mage_out\u001b[0m \u001b[0;34m=\u001b[0m \u001b[0mself\u001b[0m\u001b[0;34m.\u001b[0m\u001b[0mage\u001b[0m\u001b[0;34m(\u001b[0m\u001b[0mrgb\u001b[0m\u001b[0;34m)\u001b[0m\u001b[0;34m\u001b[0m\u001b[0;34m\u001b[0m\u001b[0m\n\u001b[0m\u001b[1;32m     59\u001b[0m         \u001b[0mmetal_out\u001b[0m \u001b[0;34m=\u001b[0m \u001b[0mself\u001b[0m\u001b[0;34m.\u001b[0m\u001b[0mmetal\u001b[0m\u001b[0;34m(\u001b[0m\u001b[0mrgb\u001b[0m\u001b[0;34m)\u001b[0m\u001b[0;34m\u001b[0m\u001b[0;34m\u001b[0m\u001b[0m\n\u001b[1;32m     60\u001b[0m \u001b[0;34m\u001b[0m\u001b[0m\n",
            "\u001b[0;32m/usr/local/lib/python3.10/dist-packages/torch/nn/modules/module.py\u001b[0m in \u001b[0;36m_call_impl\u001b[0;34m(self, *args, **kwargs)\u001b[0m\n\u001b[1;32m   1499\u001b[0m                 \u001b[0;32mor\u001b[0m \u001b[0m_global_backward_pre_hooks\u001b[0m \u001b[0;32mor\u001b[0m \u001b[0m_global_backward_hooks\u001b[0m\u001b[0;34m\u001b[0m\u001b[0;34m\u001b[0m\u001b[0m\n\u001b[1;32m   1500\u001b[0m                 or _global_forward_hooks or _global_forward_pre_hooks):\n\u001b[0;32m-> 1501\u001b[0;31m             \u001b[0;32mreturn\u001b[0m \u001b[0mforward_call\u001b[0m\u001b[0;34m(\u001b[0m\u001b[0;34m*\u001b[0m\u001b[0margs\u001b[0m\u001b[0;34m,\u001b[0m \u001b[0;34m**\u001b[0m\u001b[0mkwargs\u001b[0m\u001b[0;34m)\u001b[0m\u001b[0;34m\u001b[0m\u001b[0;34m\u001b[0m\u001b[0m\n\u001b[0m\u001b[1;32m   1502\u001b[0m         \u001b[0;31m# Do not call functions when jit is used\u001b[0m\u001b[0;34m\u001b[0m\u001b[0;34m\u001b[0m\u001b[0m\n\u001b[1;32m   1503\u001b[0m         \u001b[0mfull_backward_hooks\u001b[0m\u001b[0;34m,\u001b[0m \u001b[0mnon_full_backward_hooks\u001b[0m \u001b[0;34m=\u001b[0m \u001b[0;34m[\u001b[0m\u001b[0;34m]\u001b[0m\u001b[0;34m,\u001b[0m \u001b[0;34m[\u001b[0m\u001b[0;34m]\u001b[0m\u001b[0;34m\u001b[0m\u001b[0;34m\u001b[0m\u001b[0m\n",
            "\u001b[0;32m/usr/local/lib/python3.10/dist-packages/torch/nn/modules/container.py\u001b[0m in \u001b[0;36mforward\u001b[0;34m(self, input)\u001b[0m\n\u001b[1;32m    215\u001b[0m     \u001b[0;32mdef\u001b[0m \u001b[0mforward\u001b[0m\u001b[0;34m(\u001b[0m\u001b[0mself\u001b[0m\u001b[0;34m,\u001b[0m \u001b[0minput\u001b[0m\u001b[0;34m)\u001b[0m\u001b[0;34m:\u001b[0m\u001b[0;34m\u001b[0m\u001b[0;34m\u001b[0m\u001b[0m\n\u001b[1;32m    216\u001b[0m         \u001b[0;32mfor\u001b[0m \u001b[0mmodule\u001b[0m \u001b[0;32min\u001b[0m \u001b[0mself\u001b[0m\u001b[0;34m:\u001b[0m\u001b[0;34m\u001b[0m\u001b[0;34m\u001b[0m\u001b[0m\n\u001b[0;32m--> 217\u001b[0;31m             \u001b[0minput\u001b[0m \u001b[0;34m=\u001b[0m \u001b[0mmodule\u001b[0m\u001b[0;34m(\u001b[0m\u001b[0minput\u001b[0m\u001b[0;34m)\u001b[0m\u001b[0;34m\u001b[0m\u001b[0;34m\u001b[0m\u001b[0m\n\u001b[0m\u001b[1;32m    218\u001b[0m         \u001b[0;32mreturn\u001b[0m \u001b[0minput\u001b[0m\u001b[0;34m\u001b[0m\u001b[0;34m\u001b[0m\u001b[0m\n\u001b[1;32m    219\u001b[0m \u001b[0;34m\u001b[0m\u001b[0m\n",
            "\u001b[0;32m/usr/local/lib/python3.10/dist-packages/torch/nn/modules/module.py\u001b[0m in \u001b[0;36m_call_impl\u001b[0;34m(self, *args, **kwargs)\u001b[0m\n\u001b[1;32m   1499\u001b[0m                 \u001b[0;32mor\u001b[0m \u001b[0m_global_backward_pre_hooks\u001b[0m \u001b[0;32mor\u001b[0m \u001b[0m_global_backward_hooks\u001b[0m\u001b[0;34m\u001b[0m\u001b[0;34m\u001b[0m\u001b[0m\n\u001b[1;32m   1500\u001b[0m                 or _global_forward_hooks or _global_forward_pre_hooks):\n\u001b[0;32m-> 1501\u001b[0;31m             \u001b[0;32mreturn\u001b[0m \u001b[0mforward_call\u001b[0m\u001b[0;34m(\u001b[0m\u001b[0;34m*\u001b[0m\u001b[0margs\u001b[0m\u001b[0;34m,\u001b[0m \u001b[0;34m**\u001b[0m\u001b[0mkwargs\u001b[0m\u001b[0;34m)\u001b[0m\u001b[0;34m\u001b[0m\u001b[0;34m\u001b[0m\u001b[0m\n\u001b[0m\u001b[1;32m   1502\u001b[0m         \u001b[0;31m# Do not call functions when jit is used\u001b[0m\u001b[0;34m\u001b[0m\u001b[0;34m\u001b[0m\u001b[0m\n\u001b[1;32m   1503\u001b[0m         \u001b[0mfull_backward_hooks\u001b[0m\u001b[0;34m,\u001b[0m \u001b[0mnon_full_backward_hooks\u001b[0m \u001b[0;34m=\u001b[0m \u001b[0;34m[\u001b[0m\u001b[0;34m]\u001b[0m\u001b[0;34m,\u001b[0m \u001b[0;34m[\u001b[0m\u001b[0;34m]\u001b[0m\u001b[0;34m\u001b[0m\u001b[0;34m\u001b[0m\u001b[0m\n",
            "\u001b[0;32m/usr/local/lib/python3.10/dist-packages/torch/nn/modules/conv.py\u001b[0m in \u001b[0;36mforward\u001b[0;34m(self, input)\u001b[0m\n\u001b[1;32m    461\u001b[0m \u001b[0;34m\u001b[0m\u001b[0m\n\u001b[1;32m    462\u001b[0m     \u001b[0;32mdef\u001b[0m \u001b[0mforward\u001b[0m\u001b[0;34m(\u001b[0m\u001b[0mself\u001b[0m\u001b[0;34m,\u001b[0m \u001b[0minput\u001b[0m\u001b[0;34m:\u001b[0m \u001b[0mTensor\u001b[0m\u001b[0;34m)\u001b[0m \u001b[0;34m->\u001b[0m \u001b[0mTensor\u001b[0m\u001b[0;34m:\u001b[0m\u001b[0;34m\u001b[0m\u001b[0;34m\u001b[0m\u001b[0m\n\u001b[0;32m--> 463\u001b[0;31m         \u001b[0;32mreturn\u001b[0m \u001b[0mself\u001b[0m\u001b[0;34m.\u001b[0m\u001b[0m_conv_forward\u001b[0m\u001b[0;34m(\u001b[0m\u001b[0minput\u001b[0m\u001b[0;34m,\u001b[0m \u001b[0mself\u001b[0m\u001b[0;34m.\u001b[0m\u001b[0mweight\u001b[0m\u001b[0;34m,\u001b[0m \u001b[0mself\u001b[0m\u001b[0;34m.\u001b[0m\u001b[0mbias\u001b[0m\u001b[0;34m)\u001b[0m\u001b[0;34m\u001b[0m\u001b[0;34m\u001b[0m\u001b[0m\n\u001b[0m\u001b[1;32m    464\u001b[0m \u001b[0;34m\u001b[0m\u001b[0m\n\u001b[1;32m    465\u001b[0m \u001b[0;32mclass\u001b[0m \u001b[0mConv3d\u001b[0m\u001b[0;34m(\u001b[0m\u001b[0m_ConvNd\u001b[0m\u001b[0;34m)\u001b[0m\u001b[0;34m:\u001b[0m\u001b[0;34m\u001b[0m\u001b[0;34m\u001b[0m\u001b[0m\n",
            "\u001b[0;32m/usr/local/lib/python3.10/dist-packages/torch/nn/modules/conv.py\u001b[0m in \u001b[0;36m_conv_forward\u001b[0;34m(self, input, weight, bias)\u001b[0m\n\u001b[1;32m    457\u001b[0m                             \u001b[0mweight\u001b[0m\u001b[0;34m,\u001b[0m \u001b[0mbias\u001b[0m\u001b[0;34m,\u001b[0m \u001b[0mself\u001b[0m\u001b[0;34m.\u001b[0m\u001b[0mstride\u001b[0m\u001b[0;34m,\u001b[0m\u001b[0;34m\u001b[0m\u001b[0;34m\u001b[0m\u001b[0m\n\u001b[1;32m    458\u001b[0m                             _pair(0), self.dilation, self.groups)\n\u001b[0;32m--> 459\u001b[0;31m         return F.conv2d(input, weight, bias, self.stride,\n\u001b[0m\u001b[1;32m    460\u001b[0m                         self.padding, self.dilation, self.groups)\n\u001b[1;32m    461\u001b[0m \u001b[0;34m\u001b[0m\u001b[0m\n",
            "\u001b[0;31mKeyboardInterrupt\u001b[0m: "
          ]
        }
      ],
      "source": [
        "pr = train(model, criterion, optimizer, 35)"
      ]
    },
    {
      "cell_type": "code",
      "execution_count": null,
      "metadata": {
        "id": "HiQNUk5oPDVk",
        "colab": {
          "base_uri": "https://localhost:8080/"
        },
        "outputId": "0dc85557-dcaf-4647-c765-1371020d05f7"
      },
      "outputs": [
        {
          "output_type": "stream",
          "name": "stdout",
          "text": [
            "(tensor([11.3226, 11.3764], grad_fn=<SqueezeBackward1>), tensor([11.2548, 11.3764], grad_fn=<SqueezeBackward1>), tensor([11.3764, 11.3764], grad_fn=<SqueezeBackward1>), tensor([12.5839, 11.4122], grad_fn=<SqueezeBackward1>)) [tensor([-0.0279,  0.1465]), tensor([0.6133, 0.6826]), tensor([ 9.7665, 10.0043]), tensor([78.8419, 69.6468])]\n"
          ]
        }
      ],
      "source": [
        "model.eval()\n",
        "for pic, *label in test_loader:\n",
        "  output = model(pic.to(device))\n",
        "  print(output, label)"
      ]
    },
    {
      "cell_type": "code",
      "source": [],
      "metadata": {
        "id": "xzHUo7MGFrn4"
      },
      "execution_count": null,
      "outputs": []
    }
  ],
  "metadata": {
    "colab": {
      "provenance": [],
      "gpuType": "T4",
      "toc_visible": true,
      "include_colab_link": true
    },
    "kernelspec": {
      "display_name": "Python 3",
      "name": "python3"
    },
    "language_info": {
      "name": "python"
    }
  },
  "nbformat": 4,
  "nbformat_minor": 0
}